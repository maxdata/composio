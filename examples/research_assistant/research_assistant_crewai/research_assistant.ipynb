{
  "cells": [
    {
      "cell_type": "markdown",
      "metadata": {
        "id": "GQMzViMNrkuw"
      },
      "source": [
        "# Research Assistant\n"
      ]
    },
    {
      "cell_type": "markdown",
      "metadata": {
        "id": "MR45gqCNsfkg"
      },
      "source": [
        "## Install Required Packages\n",
        "We use Crewai, Composio and Langchain to build a research assistant agent."
      ]
    },
    {
      "cell_type": "code",
      "execution_count": null,
      "metadata": {
        "id": "G2ize0N2l97c"
      },
      "outputs": [],
      "source": [
        "%pip install composio_crewai\n",
        "%pip install crewai\n",
        "%pip install langchain-openai"
      ]
    },
    {
      "cell_type": "markdown",
      "metadata": {
        "id": "Hfmo7sEFtBft"
      },
      "source": [
        "You need to connect your SerpAPI account using the Composio CLI. This allows agents to use SerpAPI for web searches. Run the following commands on your terminal:"
      ]
    },
    {
      "cell_type": "code",
      "execution_count": null,
      "metadata": {
        "id": "y7mZ5nzXl1fF"
      },
      "outputs": [],
      "source": [
        "%composio login\n",
        "%composio add serpapi"
      ]
    },
    {
      "cell_type": "markdown",
      "metadata": {
        "id": "cDTf4BeVtKeC"
      },
      "source": [
        "## Importing required libraries\n"
      ]
    },
    {
      "cell_type": "code",
      "execution_count": null,
      "metadata": {
        "id": "7pbNN_5OtSUf"
      },
      "outputs": [],
      "source": [
        "import os\n",
        "import dotenv\n",
        "from crewai import Agent, Task, Crew, Process\n",
        "from composio_langchain import ComposioToolSet, Action, App\n",
        "from langchain_openai import ChatOpenAI"
      ]
    },
    {
      "cell_type": "markdown",
      "metadata": {
        "id": "b-U8rf43tV0J"
      },
      "source": [
        "## Initialise LLM"
      ]
    },
    {
      "cell_type": "code",
      "execution_count": null,
      "metadata": {
        "id": "LPhOuNIgudbY"
      },
      "outputs": [],
      "source": [
        "dotenv.load_dotenv()\n",
        "openai_api_key = os.getenv(\"OPENAI_API_KEY\")\n",
        "if not openai_api_key:\n",
        "    raise ValueError(\"The OPENAI_API_KEY environment variable is not set.\")\n",
        "llm = ChatOpenAI(openai_api_key=openai_api_key, model_name=\"gpt-4o\")"
      ]
    },
    {
      "cell_type": "markdown",
      "metadata": {
        "id": "RIGIaLk3uPQ4"
      },
      "source": [
        "## Initialise Tools"
      ]
    },
    {
      "cell_type": "code",
      "execution_count": null,
      "metadata": {
        "id": "tX6BkracuheL"
      },
      "outputs": [],
      "source": [
        "# Composio tool for serpapi\n",
        "composio_toolset = ComposioToolSet()\n",
        "tools = composio_toolset.get_tools(actions=[Action.SERPAPI_SEARCH])"
      ]
    },
    {
      "cell_type": "markdown",
      "metadata": {
        "id": "QQVP5WDquU0w"
      },
      "source": [
        "## Initialise Agent"
      ]
    },
    {
      "cell_type": "code",
      "execution_count": null,
      "metadata": {
        "id": "lQvgmkFrui4t"
      },
      "outputs": [],
      "source": [
        "researcher = Agent(\n",
        "     role='Researcher',\n",
        "     goal='Search the internet for the information requested',\n",
        "     backstory=\"\"\"\n",
        "     You are a researcher. Using the information in the task, you find out some of the most popular facts about the topic along with some of the trending aspects.\n",
        "     You provide a lot of information thereby allowing a choice in the content selected for the final blog.\n",
        "     \"\"\",\n",
        "     verbose=True,\n",
        "     allow_delegation=False,\n",
        "     tools=tools,\n",
        "     llm=llm\n",
        " )\n"
      ]
    },
    {
      "cell_type": "markdown",
      "metadata": {
        "id": "HkUuU6zZuY5D"
      },
      "source": [
        "## Define the task and execute"
      ]
    },
    {
      "cell_type": "code",
      "execution_count": null,
      "metadata": {
        "id": "Xy8EyU62umVD"
      },
      "outputs": [],
      "source": [
        "task1 = Task( description=\"\"\"Research about open source LLMs vs\n",
        "    closed source LLMs. Your final answer MUST be a full analysis report\"\"\", #You can add your own topic to research about change the topic, edit the text after 'Research about' in the description parameter of task1 \n",
        "    expected_output='When the research report is ready',\n",
        "    agent=researcher\n",
        ")\n",
        "task1.execute()\n"
      ]
    },
    {
      "cell_type": "markdown",
      "metadata": {
        "id": "WML0LynRuoD1"
      },
      "source": [
        "## Putting it all Together"
      ]
    },
    {
      "cell_type": "code",
      "execution_count": null,
      "metadata": {
        "id": "AyqQ3tHhl6J8"
      },
      "outputs": [],
      "source": [
        "from crewai import Agent, Task, Crew, Process\n",
        "from composio_langchain import ComposioToolSet, App\n",
        "from langchain_openai import ChatOpenAI\n",
        "import os\n",
        "import dotenv\n",
        "\n",
        "# Load environment variables\n",
        "dotenv.load_dotenv()\n",
        "\n",
        "# Initialize the language model with OpenAI API key and model name\n",
        "llm = ChatOpenAI(\n",
        "    openai_api_key=os.environ[\"OPENAI_API_KEY\"],\n",
        "    model_name=\"gpt-4o\"\n",
        ")\n",
        "\n",
        "# Setup tools using ComposioToolSet\n",
        "composio_toolset = ComposioToolSet()\n",
        "tools = composio_toolset.get_tools(apps=[App.SERPAPI])\n",
        "\n",
        "# Define the Researcher agent with its role, goal, and backstory\n",
        "researcher = Agent(\n",
        "    role='Researcher',\n",
        "    goal='Search the internet for the information requested',\n",
        "    backstory=\"\"\"\n",
        "    You are a researcher. Using the information in the task, you find out some of the most popular facts about the topic along with some of the trending aspects.\n",
        "    You provide a lot of information thereby allowing a choice in the content selected for the final blog.\n",
        "    \"\"\",\n",
        "    verbose=True,  # Enable verbose logging for the agent\n",
        "    allow_delegation=False,  # Disable delegation\n",
        "    tools=tools,  # Assign the tools to the agent\n",
        "    llm=llm  # Assign the language model to the agent\n",
        ")\n",
        "\n",
        "# Define the research task with its description and expected output\n",
        "task1 = Task(\n",
        "    description=\"\"\"\n",
        "    Research about open source LLMs vs closed source LLMs.\n",
        "    Your final answer MUST be a full analysis report\n",
        "    \"\"\", #you can add your own topic after \"Research about {your topic}\"\n",
        "    expected_output='When the research report is ready',  # Define the expected output\n",
        "    agent=researcher  # Assign the task to the researcher agent\n",
        ")\n",
        "\n",
        "# Execute the task\n",
        "task1.execute()\n",
        "\n",
        "# Print the result of the task execution\n",
        "print(task1.result)\n"
      ]
    }
  ],
  "metadata": {
    "colab": {
      "provenance": []
    },
    "kernelspec": {
      "display_name": "Python 3",
      "name": "python3"
    },
    "language_info": {
      "name": "python"
    }
  },
  "nbformat": 4,
  "nbformat_minor": 0
}
