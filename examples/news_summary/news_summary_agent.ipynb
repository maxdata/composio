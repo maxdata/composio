{
  "cells": [
    {
      "cell_type": "markdown",
      "metadata": {
        "id": "XIwdmbpjoVxW"
      },
      "source": [
        "\n",
        "## Install required packages\n",
        "\n",
        "Install the required packages and connect your SerpAPI account so agents can use it to retrieve news articles. Run the following commands on your terminal:"
      ]
    },
    {
      "cell_type": "code",
      "execution_count": null,
      "metadata": {
        "id": "M4dQk7gv9dKL"
      },
      "outputs": [],
      "source": [
        "%pip install composio-langchain\n",
        "%pip install composio-core\n",
        "%pip install langchain-community\n",
        "%pip install huggingface_hub\n",
        "%pip install google-search-results\n",
        "%pip install python-dotenv"
      ]
    },
    {
      "cell_type": "markdown",
      "metadata": {
        "id": "kV96aDJnwk-S"
      },
      "source": [
        "Use Composio to add SERP tool"
      ]
    },
    {
      "cell_type": "code",
      "execution_count": null,
      "metadata": {
        "id": "XgbxRQwSwgty"
      },
      "outputs": [],
      "source": [
        "%composio login\n",
        "%composio add serpapi"
      ]
    },
    {
      "cell_type": "markdown",
      "metadata": {
        "id": "_GuLs_BPwqup"
      },
      "source": [
        "## Import base packages\n",
        "Begin by importing the necessary packages:"
      ]
    },
    {
      "cell_type": "code",
      "execution_count": null,
      "metadata": {
        "id": "A4YVU-cXwuiT"
      },
      "outputs": [],
      "source": [
        "from langchain_community.document_loaders import WebBaseLoader\n",
        "#To use Open Source LLMs from huggingface\n",
        "from langchain_community.llms import HuggingFaceEndpoint\n",
        "from langchain.chat_models import ChatHuggingFace\n",
        "#Langchain Utilities for Agents\n",
        "from langchain.agents import AgentExecutor, load_tools\n",
        "from langchain.agents.format_scratchpad import format_log_to_str\n",
        "from langchain.agents.output_parsers import (\n",
        "    ReActJsonSingleInputOutputParser,\n",
        ")\n",
        "from langchain import hub\n",
        "from langchain.tools.render import render_text_description\n",
        "#Importing Composio\n",
        "from composio_langchain import ComposioToolSet, Action, App\n",
        "import os\n",
        "import dotenv"
      ]
    },
    {
      "cell_type": "markdown",
      "metadata": {
        "id": "PSN_P7Zkw1qZ"
      },
      "source": [
        "## Initialise the Tools\n",
        "\n"
      ]
    },
    {
      "cell_type": "code",
      "execution_count": null,
      "metadata": {
        "id": "SWzdnQLjxAjD"
      },
      "outputs": [],
      "source": [
        "composio_toolset = ComposioToolSet()\n",
        "tools = composio_toolset.get_tools(apps=[App.SERPAPI])"
      ]
    },
    {
      "cell_type": "markdown",
      "metadata": {
        "id": "GcPFVyhyxDwP"
      },
      "source": [
        "## Initialise the LLM"
      ]
    },
    {
      "cell_type": "code",
      "execution_count": null,
      "metadata": {
        "id": "UcOZPfEXxI44"
      },
      "outputs": [],
      "source": [
        "dotenv.load_dotenv()\n",
        "llm = HuggingFaceEndpoint(repo_id=\"HuggingFaceH4/zephyr-7b-beta\", huggingfacehub_api_token=os.getenv(\"HUGGINGFACEHUB_API_TOKEN\"))\n",
        "chat_model = ChatHuggingFace(llm=llm)"
      ]
    },
    {
      "cell_type": "markdown",
      "metadata": {
        "id": "CrgpaF2mxM5j"
      },
      "source": [
        "## Setup ReAct Style Prompt Template\n",
        "Set up the prompt template using Langchain Hub:\n",
        "\n",
        "\n",
        "\n"
      ]
    },
    {
      "cell_type": "code",
      "execution_count": null,
      "metadata": {
        "id": "1aPXwQKuxTIs"
      },
      "outputs": [],
      "source": [
        "#We use Langchain Hub for the Prompt Template\n",
        "prompt = hub.pull(\"hwchase17/react-json\")\n",
        "#prompt.partial assigns values to some parameters defined within the prompt template\n",
        "prompt = prompt.partial(\n",
        "tools=render_text_description(tools),\n",
        "tool_names=\", \".join([t.name for t in tools]),\n",
        ")"
      ]
    },
    {
      "cell_type": "markdown",
      "metadata": {
        "id": "5doj2lWKxhcT"
      },
      "source": [
        "## Define the Agent\n",
        "Define the agent to process the news retrieval and summarization\n"
      ]
    },
    {
      "cell_type": "code",
      "execution_count": null,
      "metadata": {
        "id": "pSSKNOvXxmx1"
      },
      "outputs": [],
      "source": [
        "chat_model_with_stop = chat_model.bind(stop=[\"\\nInvalidStop\"])\n",
        "agent = (\n",
        "{\n",
        "\"input\": lambda x: x[\"input\"],\n",
        "\"agent_scratchpad\": lambda x: format_log_to_str(x[\"intermediate_steps\"]),\n",
        "}\n",
        "| prompt\n",
        "| chat_model_with_stop\n",
        "| ReActJsonSingleInputOutputParser()\n",
        ")"
      ]
    },
    {
      "cell_type": "markdown",
      "metadata": {
        "id": "D3TjTiC0xqp8"
      },
      "source": [
        "## Executing the Agent\n",
        "Use the agent to find the latest AI news and summarize it:\n"
      ]
    },
    {
      "cell_type": "code",
      "execution_count": null,
      "metadata": {
        "id": "tEwp3wdixxGz"
      },
      "outputs": [],
      "source": [
        "agent_executor = AgentExecutor(agent=agent, tools=tools, verbose=True, handle_parsing_errors=True)\n",
        "agent_executor.return_intermediate_steps = True\n",
        "res = agent_executor.invoke(\n",
        "    {\n",
        "        \"input\": \"Use SERP to find the one latest AI news, take only description of article.\"\n",
        "    }\n",
        ")\n",
        "\n",
        "res2 = agent_executor.invoke({\n",
        "    \"input\": res['output']+' Summarize this'\n",
        "})\n"
      ]
    },
    {
      "cell_type": "markdown",
      "metadata": {
        "id": "2-vI6WZHx3JO"
      },
      "source": [
        "## Putting it All Together"
      ]
    },
    {
      "cell_type": "code",
      "execution_count": null,
      "metadata": {
        "id": "ZtfnZTY6TRla"
      },
      "outputs": [],
      "source": [
        "from langchain import hub\n",
        "from langchain.agents import AgentExecutor, load_tools\n",
        "from langchain.agents.format_scratchpad import format_log_to_str\n",
        "from langchain.agents.output_parsers import (\n",
        "    ReActJsonSingleInputOutputParser,\n",
        ")\n",
        "from langchain.tools.render import render_text_description\n",
        "from langchain_community.utilities import SerpAPIWrapper\n",
        "from langchain_community.llms import HuggingFaceEndpoint\n",
        "from langchain_community.chat_models.huggingface import ChatHuggingFace\n",
        "from composio_langchain import ComposioToolSet, Action, App\n",
        "\n",
        "\n",
        "llm = HuggingFaceEndpoint(repo_id=\"HuggingFaceH4/zephyr-7b-beta\", huggingfacehub_api_token=os.getenv(\"HUGGINGFACEHUB_API_TOKEN\"))\n",
        "\n",
        "chat_model = ChatHuggingFace(llm=llm)\n",
        "# Import from composio_langchain\n",
        "\n",
        "\n",
        "# setup tools\n",
        "composio_toolset = ComposioToolSet()\n",
        "tools = composio_toolset.get_tools(apps=[App.SERPAPI])\n",
        "\n",
        "# setup ReAct style prompt\n",
        "prompt = hub.pull(\"hwchase17/react-json\")\n",
        "prompt = prompt.partial(\n",
        "    tools=render_text_description(tools),\n",
        "    tool_names=\", \".join([t.name for t in tools]),\n",
        ")\n",
        "\n",
        "# define the agent\n",
        "chat_model_with_stop = chat_model.bind(stop=[\"\\nInvalidStop\"])\n",
        "agent = (\n",
        "    {\n",
        "        \"input\": lambda x: x[\"input\"],\n",
        "        \"agent_scratchpad\": lambda x: format_log_to_str(x[\"intermediate_steps\"]),\n",
        "    }\n",
        "    | prompt\n",
        "    | chat_model_with_stop\n",
        "    | ReActJsonSingleInputOutputParser()\n",
        ")\n",
        "\n",
        "# instantiate AgentExecutor\n",
        "agent_executor = AgentExecutor(agent=agent, tools=tools, verbose=True, handle_parsing_errors=True)\n",
        "agent_executor.return_intermediate_steps = True\n",
        "res = agent_executor.invoke(\n",
        "    {\n",
        "        \"input\": \"Use SERP to find the one latest AI news, take only description of article.\"\n",
        "    }\n",
        ")\n",
        "\n",
        "res2 = agent_executor.invoke({\n",
        "    \"input\": res['output']+' Summarize this'\n",
        "})\n",
        "\n"
      ]
    }
  ],
  "metadata": {
    "colab": {
      "provenance": []
    },
    "kernelspec": {
      "display_name": "Python 3",
      "name": "python3"
    },
    "language_info": {
      "name": "python"
    }
  },
  "nbformat": 4,
  "nbformat_minor": 0
}
